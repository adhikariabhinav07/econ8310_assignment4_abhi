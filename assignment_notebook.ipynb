{
 "cells": [
  {
   "cell_type": "markdown",
   "id": "8e649671-64ae-4692-a381-33974ffa666a",
   "metadata": {},
   "source": [
    "# Assignment 4\n",
    "## Econ 8310 - Business Forecasting\n",
    "\n",
    "This assignment will make use of the bayesian statistical models covered in Lessons 10 to 12. \n",
    "\n",
    "A/B Testing is a critical concept in data science, and for many companies one of the most relevant applications of data-driven decision-making. In order to improve product offerings, marketing campaigns, user interfaces, and many other user-facing interactions, scientists and engineers create experiments to determine the efficacy of proposed changes. Users are then randomly assigned to either the treatment or control group, and their behavior is recorded.\n",
    "If the changes that the treatment group is exposed to can be measured to have a benefit in the metric of interest, then those changes are scaled up and rolled out to across all interactions.\n",
    "Below is a short video detailing the A/B Testing process, in case you want to learn a bit more:\n",
    "[https://youtu.be/DUNk4GPZ9bw](https://youtu.be/DUNk4GPZ9bw)\n",
    "\n",
    "For this assignment, you will use an A/B test data set, which was pulled from the Kaggle website (https://www.kaggle.com/datasets/yufengsui/mobile-games-ab-testing). I have added the data from the page into Codio for you. It can be found in the cookie_cats.csv file in the file tree. It can also be found at [https://github.com/dustywhite7/Econ8310/raw/master/AssignmentData/cookie_cats.csv](https://github.com/dustywhite7/Econ8310/raw/master/AssignmentData/cookie_cats.csv)\n",
    "\n",
    "The variables are defined as follows:\n",
    "\n",
    "| Variable Name  | Definition |\n",
    "|----------------|----|\n",
    "| userid         | A unique number that identifies each player  |\n",
    "| version        | Whether the player was put in the control group (gate_30 - a gate at level 30) or the group with the moved gate (gate_40 - a gate at level 40) |\n",
    "| sum_gamerounds | The number of game rounds played by the player during the first 14 days after install.  |\n",
    "| retention1     | Did the player come back and play 1 day after installing?     |\n",
    "| retention7     | Did the player come back and play 7 days after installing?    |               "
   ]
  },
  {
   "cell_type": "markdown",
   "id": "a7d4d9ba-5349-4ae6-833b-8cea780510d2",
   "metadata": {},
   "source": [
    "### The questions\n",
    "\n",
    "You will be asked to answer the following questions in a small quiz on Canvas:\n",
    "1. What was the effect of moving the gate from level 30 to level 40 on 1-day retention rates?\n",
    "2. What was the effect of moving the gate from level 30 to level 40 on 7-day retention rates?\n",
    "3. What was the biggest challenge for you in completing this assignment?\n",
    "\n",
    "You will also be asked to submit a URL to your forked GitHub repository containing your code used to answer these questions."
   ]
  },
  {
   "cell_type": "code",
   "execution_count": null,
   "id": "bcd35387-b05b-4cb2-9b1f-e1d2c0e43588",
   "metadata": {},
   "outputs": [],
   "source": []
  }
 ],
 "metadata": {
  "kernelspec": {
   "display_name": "Python 3 (ipykernel)",
   "language": "python",
   "name": "python3"
  },
  "language_info": {
   "codemirror_mode": {
    "name": "ipython",
    "version": 3
   },
   "file_extension": ".py",
   "mimetype": "text/x-python",
   "name": "python",
   "nbconvert_exporter": "python",
   "pygments_lexer": "ipython3",
   "version": "3.9.13"
  }
 },
 "nbformat": 4,
 "nbformat_minor": 5
}

import arviz as az
import matplotlib.pyplot as plt
import numpy as np
import pandas as pd
import pymc as pm
from scipy.stats import beta

# Set random seed 
SEED = 42
np.random.seed(SEED)
az.style.use("arviz-darkgrid")

# Load the dataset
data = pd.read_csv("https://github.com/dustywhite7/Econ8310/raw/master/AssignmentData/cookie_cats.csv")

# Separate data by version 
ret_1_A = data[data['version'] == 'gate_30']['retention_1']
ret_1_B = data[data['version'] == 'gate_40']['retention_1']
ret_7_A = data[data['version'] == 'gate_30']['retention_7']
ret_7_B = data[data['version'] == 'gate_40']['retention_7']


# Define priors
a_prior, b_prior = 1, 1

# Calculate posterior parameters for gate_30 (control group)
a_30 = a_prior + ret_1_A.sum()
b_30 = b_prior + len(ret_1_A) - ret_1_A.sum()

# Calculate posterior parameters for gate_40 (treatment group)
a_40 = a_prior + ret_1_B.sum()
b_40 = b_prior + len(ret_1_B) - ret_1_B.sum()

# Plot 
x = np.linspace(0, 1, 1000)
plt.figure(figsize=(12, 6))
plt.plot(x, beta.pdf(x, a_30, b_30), label='Gate 30 (Control)', color='blue')
plt.plot(x, beta.pdf(x, a_40, b_40), label='Gate 40 (Treatment)', color='orange')
plt.title('1-Day Retention Rates: Beta Posterior Distributions')
plt.xlabel('Retention Rate')
plt.ylabel('Density')
plt.legend()
plt.show()


samp_30 = np.random.beta(a_30, b_30, 10000)
samp_40 = np.random.beta(a_40, b_40, 10000)
prob_40_1 = (samp_40 > samp_30).mean()
print(f"Probability that Gate 40 has a higher 1-day retention rate: {prob_40_1:.4f}")



with pm.Model() as model_1:
    # Priors
    p_30 = pm.Uniform('p_30', 0, 1)
    p_40 = pm.Uniform('p_40', 0, 1)
    
    # Likelihoods
    obs_30 = pm.Bernoulli('obs_30', p_30, observed=ret_1_A)
    obs_40 = pm.Bernoulli('obs_40', p_40, observed=ret_1_B)
    
    # Sampling
    trace_1 = pm.sample(2000, step=pm.Metropolis(), chains=2, random_seed=SEED)

# Plot  distributions for 1-day retention
az.plot_posterior(trace_1, var_names=['p_30', 'p_40'], hdi_prob=0.95)
plt.suptitle("Posterior Distributions for 1-Day Retention")
plt.show()

# Extract posterior samples
post_30 = trace_1.posterior.p_30.values.flatten()
post_40 = trace_1.posterior.p_40.values.flatten()

# Compare PyMC posterior samples
prob_40_1 = (post_40 > post_30).mean()
print(f"Probability that Gate 40 has a higher 1-day retention rate: {prob_40_1:.4f}")

# Analytical (Beta Posterior)
a_30_7 = a_prior + ret_7_A.sum()
b_30_7 = b_prior + len(ret_7_A) - ret_7_A.sum()

a_40_7 = a_prior + ret_7_B.sum()
b_40_7 = b_prior + len(ret_7_B) - ret_7_B.sum()

x = np.linspace(0, 1, 1000)
plt.figure(figsize=(12, 6))
plt.plot(x, beta.pdf(x, a_30_7, b_30_7), label='Gate 30 (Control)', color='blue')
plt.plot(x, beta.pdf(x, a_40_7, b_40_7), label='Gate 40 (Treatment)', color='orange')
plt.title('7-Day Retention Rates: Beta Posterior Distributions')
plt.xlabel('Retention Rate')
plt.ylabel('Density')
plt.legend()
plt.show()

samp_30_7 = np.random.beta(a_30_7, b_30_7, 10000)
samp_40_7 = np.random.beta(a_40_7, b_40_7, 10000)
prob_40_7 = (samp_40_7 > samp_30_7).mean()
print(f"Probability that Gate 40 has a higher 7-day retention rate: {prob_40_7:.4f}")

# 7-Day Retention
with pm.Model() as model_7:
    # Priors
    p_30_7 = pm.Uniform('p_30_7', 0, 1)
    p_40_7 = pm.Uniform('p_40_7', 0, 1)
    
    # Likelihoods
    obs_30_7 = pm.Bernoulli('obs_30_7', p_30_7, observed=ret_7_A)
    obs_40_7 = pm.Bernoulli('obs_40_7', p_40_7, observed=ret_7_B)
    
    # Sampling
    trace_7 = pm.sample(2000, step=pm.Metropolis(), chains=2, random_seed=SEED)

# Plot posterior distributions for 7-day retention
az.plot_posterior(trace_7, var_names=['p_30_7', 'p_40_7'], hdi_prob=0.95)
plt.suptitle("Posterior Distributions for 7-Day Retention")
plt.show()

# Extract posterior samples
post_30_7 = trace_7.posterior.p_30_7.values.flatten()
post_40_7 = trace_7.posterior.p_40_7.values.flatten()

# Compare posterior samples
prob_40_7 = (post_40_7 > post_30_7).mean()
print(f"Probability that Gate 40 has a higher 7-day retention rate: {prob_40_7:.4f}")
